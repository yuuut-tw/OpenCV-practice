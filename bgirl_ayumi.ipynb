{
 "cells": [
  {
   "cell_type": "markdown",
   "id": "1380632c-4fc3-41fd-b551-3f0206ddfe34",
   "metadata": {},
   "source": [
    "## **Bgirl AYUMI**\n",
    "### Used methods as following:\n",
    "\n",
    "1. 影片基本處理\n",
    "   - 翻轉\n",
    "   - 播放速度\n",
    "2. 文字\n",
    "3. 影像處理\n",
    "   - Sobel \n",
    "   - MOG \n",
    "   - Canny"
   ]
  },
  {
   "cell_type": "code",
   "execution_count": 2,
   "id": "8cca9584-f229-4258-8098-ae2eda03a8bb",
   "metadata": {
    "ExecuteTime": {
     "end_time": "2021-08-16T12:09:14.674286Z",
     "start_time": "2021-08-16T12:08:49.616125Z"
    }
   },
   "outputs": [
    {
     "data": {
      "text/plain": [
       "-1"
      ]
     },
     "execution_count": 2,
     "metadata": {},
     "output_type": "execute_result"
    }
   ],
   "source": [
    "import numpy as np\n",
    "import dlib\n",
    "import cv2\n",
    "\n",
    "cap = cv2.VideoCapture('./video/ayumi(dance).mp4')   \n",
    "F_Count = cap.get(cv2.CAP_PROP_FRAME_COUNT)            \n",
    "\n",
    "# 建立 VideoWriter 物件，輸出影片至video資料夾，FPS值為 25\n",
    "width = int(cap.get(cv2.CAP_PROP_FRAME_WIDTH))          # 取得畫面尺寸\n",
    "height = int(cap.get(cv2.CAP_PROP_FRAME_HEIGHT))\n",
    "fourcc = cv2.VideoWriter_fourcc(*'XVID')                # 使用 XVID 編碼\n",
    "output_video = cv2.VideoWriter('./video/Ayu.mp4', fourcc, 25,(width, height))\n",
    "\n",
    "fgbg = cv2.bgsegm.createBackgroundSubtractorMOG(history=1, nmixtures=5, backgroundRatio=0.7)  \n",
    "\n",
    "# num = frame number\n",
    "num = 0  \n",
    "\n",
    "while cap.isOpened():\n",
    "    ret, frame = cap.read() # 輸出結果 => Boolean, Array\n",
    "\n",
    "    # 影片基本處理 =>翻轉、播放速度\n",
    "    frame = cv2.flip(frame, 1) \n",
    "    c = cv2.waitKey(20)            \n",
    "\n",
    "    if not ret or c==27:        \n",
    "        break\n",
    "    \n",
    "    # 文字 => cv2.putText(影像, 文字, 座標, 字型, 大小, 顏色, 線條寬度, 線條種類)\n",
    "    if num in range(45): # 80 200\n",
    "        cv2.putText(frame, 'Ayumi desu! YoRoShiKu~ (^_^)y', (80, 300), cv2.FONT_HERSHEY_SIMPLEX, 0.8, (0,0,180), 2, cv2.LINE_AA)    \n",
    "    if num in range(45, 90): # 80 200\n",
    "        cv2.putText(frame, 'DJ Drop the Beat!!!!!', (100, 200), cv2.FONT_HERSHEY_SCRIPT_COMPLEX, 1.5, (155,20,20), 2, cv2.LINE_AA)\n",
    "    \n",
    "    # 影像處理 => Sobel, Mog, Canny\n",
    "    if 160 < num < 330:    \n",
    "        if (num%6  == 0):\n",
    "            sobelx = cv2.convertScaleAbs(cv2.Sobel(frame, cv2.CV_64F, 1, 0, ksize=3))    \n",
    "            sobely = cv2.convertScaleAbs(cv2.Sobel(frame, cv2.CV_64F, 0, 1, ksize=3))  \n",
    "            frame =  cv2.addWeighted(sobelx, 0.7, sobely, 0.3, 1) \n",
    "        else:\n",
    "            frame = fgbg.apply(frame)\n",
    "            frame = cv2.cvtColor(frame, cv2.COLOR_GRAY2BGR)\n",
    "    elif num < 80:\n",
    "        pass\n",
    "    \n",
    "    elif 330 <= num < 457:\n",
    "        frame = cv2.Canny(frame, 100, 200)\n",
    "        frame = cv2.cvtColor(frame, cv2.COLOR_GRAY2BGR)\n",
    "        \n",
    "    cv2.putText(frame, 'Frame number: {}'.format(num), (50, 20), cv2.FONT_HERSHEY_SIMPLEX, 0.5, (0,0,0), 2, cv2.LINE_AA)\n",
    "    cv2.imshow('frame',frame)\n",
    "    output_video.write(frame)\n",
    "    \n",
    "    num += 1\n",
    "    \n",
    "cap.release()\n",
    "output_video.release()\n",
    "cv2.destroyAllWindows()\n",
    "cv2.waitKey(1)"
   ]
  },
  {
   "cell_type": "code",
   "execution_count": null,
   "id": "8664ee72-eecd-47a7-ba75-5b5ea538f0ad",
   "metadata": {},
   "outputs": [],
   "source": []
  }
 ],
 "metadata": {
  "kernelspec": {
   "display_name": "Python 3",
   "language": "python",
   "name": "python3"
  },
  "language_info": {
   "codemirror_mode": {
    "name": "ipython",
    "version": 3
   },
   "file_extension": ".py",
   "mimetype": "text/x-python",
   "name": "python",
   "nbconvert_exporter": "python",
   "pygments_lexer": "ipython3",
   "version": "3.6.8"
  },
  "toc": {
   "base_numbering": 1,
   "nav_menu": {},
   "number_sections": true,
   "sideBar": true,
   "skip_h1_title": false,
   "title_cell": "Table of Contents",
   "title_sidebar": "Contents",
   "toc_cell": false,
   "toc_position": {},
   "toc_section_display": true,
   "toc_window_display": false
  },
  "varInspector": {
   "cols": {
    "lenName": 16,
    "lenType": 16,
    "lenVar": 40
   },
   "kernels_config": {
    "python": {
     "delete_cmd_postfix": "",
     "delete_cmd_prefix": "del ",
     "library": "var_list.py",
     "varRefreshCmd": "print(var_dic_list())"
    },
    "r": {
     "delete_cmd_postfix": ") ",
     "delete_cmd_prefix": "rm(",
     "library": "var_list.r",
     "varRefreshCmd": "cat(var_dic_list()) "
    }
   },
   "types_to_exclude": [
    "module",
    "function",
    "builtin_function_or_method",
    "instance",
    "_Feature"
   ],
   "window_display": false
  }
 },
 "nbformat": 4,
 "nbformat_minor": 5
}
